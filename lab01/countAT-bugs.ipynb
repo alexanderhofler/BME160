#!/usr/bin/env python3
# Name: Alexander Hoefler (ahoefler)
# Group Members: none

class dnaString (str):
    def length (self):
        return (len(self))

    def getAT (self):
        num_A = self.count("A") #quotation marks needed
        num_T = self.count("T")
        return ((num_A + num_T)/ self.length() ) #'length' needed, not 'len'

dna = input("Enter a dna sequence: ")
upperDNA = dna.upper()
coolString = dnaString(upperDNA)

print ("AT content = {0:0.3f}".format(coolString.getAT()) ) #only set to mark 1 sig fig
