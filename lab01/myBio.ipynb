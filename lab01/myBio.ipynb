{
 "cells": [
  {
   "cell_type": "code",
   "execution_count": null,
   "metadata": {},
   "outputs": [],
   "source": [
    "#!/usr/bin/env python3\n",
    "# Name: Alexander Hoefler (ahoefler)\n",
    "# Group Members: none\n",
    "\n",
    "\"\"\"\n",
    "Build a Person object and have it introduce itself.\n",
    "\n",
    "input: a string of arbitrary length, which is used to name the new person object\n",
    "output: greeting printed to screen\n",
    "\"\"\"\n",
    "\n",
    "class Person: #create Person class\n",
    "    #first define all the names as self\n",
    "    def printName (self):\n",
    "        print (\"My name is Alexander Hoefler\")\n",
    "    def printUsername (self): \n",
    "        print (\"ahoefler\")\n",
    "    def printStudentType (self):\n",
    "        print (\"undergraduate\")\n",
    "    def printMajor (self):\n",
    "        print (\"Biomolecular-engineering\")\n",
    "    def printReasoning (self):\n",
    "        print (\"I am taking this class for two reasons. The first is because it is required for my major. The second (and main reason for the timing) is that I am working with a graduate student Andrew Bailey under Professor Paten on DNA sequencing using machine learning and Bailey HIGHLY recommended I take this class to get up to speed.\")\n",
    "    def printInterest (self):\n",
    "        print (\"I am most interested in nerve connections between humans and their respective prosthetics, and their fine motor control.\")\n",
    "    def printExperience(self):\n",
    "        print (\"I have very little experience coding, and the small amount I have coded has been in Java.\")\n",
    "user = Person()\n",
    "user.printName()\n",
    "user.printUsername()\n",
    "user.printStudentType()\n",
    "user.printMajor()\n",
    "user.printReasoning()\n",
    "user.printInterest()\n",
    "user.printExperience()\n",
    "name = 'Alexander Hoefler'\n",
    "username = 'ahoefler'\n",
    "studentType = 'undergraduate'\n",
    "major = 'Biomolecular-engineering'\n",
    "reasoning = 'I am taking this class for two reasons. The first is because it is required for my major. The second (and main reason for the timing) is that I am working with a graduate student Andrew Bailey under Professor Paten on DNA sequencing using machine learning and Bailey HIGHLY recommended I take this class to get up to speed.'\n",
    "interest = 'I am most interested in nerve connections between humans and their respective prosthetics, and their fine motor control. '\n",
    "experience = 'I have very little experience coding, and the small amount I have coded has been in Java.'\n"
   ]
  }
 ],
 "metadata": {
  "kernelspec": {
   "display_name": "Python 3",
   "language": "python",
   "name": "python3"
  },
  "language_info": {
   "codemirror_mode": {
    "name": "ipython",
    "version": 3
   },
   "file_extension": ".py",
   "mimetype": "text/x-python",
   "name": "python",
   "nbconvert_exporter": "python",
   "pygments_lexer": "ipython3",
   "version": "3.6.4"
  }
 },
 "nbformat": 4,
 "nbformat_minor": 2
}
