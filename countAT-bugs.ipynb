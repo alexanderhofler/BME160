{
 "cells": [
  {
   "cell_type": "code",
   "execution_count": null,
   "metadata": {},
   "outputs": [],
   "source": [
    "#!/usr/bin/env python3\n",
    "# Name: Alexander Hoefler (ahoefler)\n",
    "# Group Members: none\n",
    "\n",
    "class dnaString (str):\n",
    "    def length (self):\n",
    "        return (len(self))\n",
    "\n",
    "    def getAT (self):\n",
    "        num_A = self.count(\"A\") #quotation marks needed\n",
    "        num_T = self.count(\"T\")\n",
    "        return ((num_A + num_T)/ self.length() ) #'length' needed, not 'len'\n",
    "\n",
    "dna = input(\"Enter a dna sequence: \")\n",
    "upperDNA = dna.upper()\n",
    "coolString = dnaString(upperDNA)\n",
    "\n",
    "print (\"AT content = {0:0.3f}\".format(coolString.getAT()) ) #only set to mark 1 sig fig"
   ]
  }
 ],
 "metadata": {
  "kernelspec": {
   "display_name": "Python 3",
   "language": "python",
   "name": "python3"
  },
  "language_info": {
   "codemirror_mode": {
    "name": "ipython",
    "version": 3
   },
   "file_extension": ".py",
   "mimetype": "text/x-python",
   "name": "python",
   "nbconvert_exporter": "python",
   "pygments_lexer": "ipython3",
   "version": "3.6.4"
  }
 },
 "nbformat": 4,
 "nbformat_minor": 2
}
