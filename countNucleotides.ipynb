{
 "cells": [
  {
   "cell_type": "code",
   "execution_count": null,
   "metadata": {},
   "outputs": [],
   "source": [
    "#!/usr/bin/env python3\n",
    "# Name: David Bernick(dbernick)\n",
    "# Group Members: none\n",
    "\n",
    "class dnaString (str): #create dnaString class\n",
    "    def length (self): #define all names under self instance\n",
    "        return (len(self))\n",
    "    def getA (self):\n",
    "        num_A = self.count(\"A\")\n",
    "        return ((num_A))\n",
    "    def getT (self):\n",
    "        num_T = self.count(\"T\")\n",
    "        return ((num_T))\n",
    "    def getC (self):    \n",
    "        num_C = self.count(\"C\")\n",
    "        return ((num_C))\n",
    "    def getG (self):\n",
    "        num_G = self.count(\"G\")\n",
    "        return ((num_G))\n",
    "dna = input (\"Enter a dna sequence: \") #gather DNA input from user\n",
    "\n",
    "upperDNA = dna.upper()\n",
    "coolString = dnaString(upperDNA) #re-define dnaString\n",
    "print (\" \")\n",
    "print (\"Your sequence is {0} nucleotides long with the following breakdown of bases\".format(coolString.length()))\n",
    "print (\" \") #print filler lines for formatting\n",
    "print (\"Number As = {0} \".format (coolString.getA()) , end=\"\", flush=True) #print each returned output\n",
    "print (\"number Cs = {0} \".format (coolString.getA()) , end=\"\", flush=True) #use end/flush= True to keep in single line\n",
    "print (\"numer Gs = {0} \".format (coolString.getG()) , end=\"\", flush=True)\n",
    "print (\"number Ts = {0:1.0f}\".format(coolString.getT()) )\n",
    " \n"
   ]
  }
 ],
 "metadata": {
  "kernelspec": {
   "display_name": "Python 3",
   "language": "python",
   "name": "python3"
  },
  "language_info": {
   "codemirror_mode": {
    "name": "ipython",
    "version": 3
   },
   "file_extension": ".py",
   "mimetype": "text/x-python",
   "name": "python",
   "nbconvert_exporter": "python",
   "pygments_lexer": "ipython3",
   "version": "3.6.4"
  }
 },
 "nbformat": 4,
 "nbformat_minor": 2
}
